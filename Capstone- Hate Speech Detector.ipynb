{
 "cells": [
  {
   "cell_type": "code",
   "execution_count": 1,
   "metadata": {},
   "outputs": [
    {
     "name": "stdout",
     "output_type": "stream",
     "text": [
      "Enter the YouTube video Link:https://www.youtube.com/watch?v=jW_wdlhDQZ4\n",
      "Priyanka Chopra Speaks On Breaking The Glass Ceiling\n"
     ]
    }
   ],
   "source": [
    "from pytube import YouTube\n",
    "link = input(\"Enter the YouTube video Link:\")\n",
    "yt = YouTube(link)\n",
    "print(yt.title)"
   ]
  },
  {
   "cell_type": "code",
   "execution_count": 6,
   "metadata": {},
   "outputs": [
    {
     "name": "stdout",
     "output_type": "stream",
     "text": [
      "<Stream: itag=\"18\" mime_type=\"video/mp4\" res=\"360p\" fps=\"30fps\" vcodec=\"avc1.42001E\" acodec=\"mp4a.40.2\" progressive=\"True\" type=\"video\">\n",
      "Download complete!\n"
     ]
    }
   ],
   "source": [
    "video = yt.streams.filter(file_extension='mp4').first()\n",
    "print(video)\n",
    "video.download('C:/Users/hp/Desktop', filename = 'videofile' )\n",
    "print(\"Download complete!\")"
   ]
  },
  {
   "cell_type": "code",
   "execution_count": 7,
   "metadata": {},
   "outputs": [],
   "source": [
    "import moviepy.editor"
   ]
  },
  {
   "cell_type": "code",
   "execution_count": 8,
   "metadata": {},
   "outputs": [
    {
     "name": "stdout",
     "output_type": "stream",
     "text": [
      "MoviePy - Writing audio in C:/Users/hp/Desktop/audiofile.wav\n"
     ]
    },
    {
     "name": "stderr",
     "output_type": "stream",
     "text": [
      "                                                                                                                       \r"
     ]
    },
    {
     "name": "stdout",
     "output_type": "stream",
     "text": [
      "MoviePy - Done.\n"
     ]
    }
   ],
   "source": [
    "vdo = moviepy.editor.VideoFileClip('C:/Users/hp/Desktop/videofile.mp4')\n",
    "ado = vdo.audio\n",
    "ado.write_audiofile('C:/Users/hp/Desktop/audiofile.wav')"
   ]
  },
  {
   "cell_type": "code",
   "execution_count": 9,
   "metadata": {},
   "outputs": [],
   "source": [
    "import speech_recognition as sr"
   ]
  },
  {
   "cell_type": "code",
   "execution_count": 10,
   "metadata": {},
   "outputs": [],
   "source": [
    "r=sr.Recognizer()"
   ]
  },
  {
   "cell_type": "code",
   "execution_count": 11,
   "metadata": {},
   "outputs": [
    {
     "name": "stdout",
     "output_type": "stream",
     "text": [
      "Soch Vishal are you curious why I chose to talk about Breaking the glass ceiling 9 summary said know what are you curious about them me that exactly the point that tell you guys about means through what I want to talk about the first and foremost good evening in a big and big round of applause to love u i cannot tell you how happy I am to be here today and to actually be talking to all of you this is a second time I've been in this Auditorium and each time is win so wonderful as always thanks Shubham am sure that they who actually asked me to do this will find out after the session how much I want to actually thank Penguin random house was me to come here Mr Sanjay Gupta Himali sorry Nandan Sonia Singh was going to be asking a lot of questions after this is over on the couch and I'm pretty sure she is going to Grill me a lot but before we start can I ask you something\n"
     ]
    }
   ],
   "source": [
    "with sr.AudioFile('C:/Users/hp/Desktop/audiofile.wav') as source:\n",
    "    audio = r.listen(source)\n",
    "    try:\n",
    "        text = r.recognize_google(audio)\n",
    "        print(text)\n",
    "    except:\n",
    "        print('Sorry! run again')"
   ]
  },
  {
   "cell_type": "code",
   "execution_count": null,
   "metadata": {},
   "outputs": [],
   "source": []
  }
 ],
 "metadata": {
  "kernelspec": {
   "display_name": "Python 3",
   "language": "python",
   "name": "python3"
  },
  "language_info": {
   "codemirror_mode": {
    "name": "ipython",
    "version": 3
   },
   "file_extension": ".py",
   "mimetype": "text/x-python",
   "name": "python",
   "nbconvert_exporter": "python",
   "pygments_lexer": "ipython3",
   "version": "3.7.4"
  }
 },
 "nbformat": 4,
 "nbformat_minor": 2
}
